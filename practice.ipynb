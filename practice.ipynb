{
  "nbformat": 4,
  "nbformat_minor": 0,
  "metadata": {
    "colab": {
      "provenance": [],
      "authorship_tag": "ABX9TyMqB5h9xzld9cVZdShSqQah",
      "include_colab_link": true
    },
    "kernelspec": {
      "name": "python3",
      "display_name": "Python 3"
    },
    "language_info": {
      "name": "python"
    }
  },
  "cells": [
    {
      "cell_type": "markdown",
      "metadata": {
        "id": "view-in-github",
        "colab_type": "text"
      },
      "source": [
        "<a href=\"https://colab.research.google.com/github/ecemokse/patika.python.projects/blob/main/practice.ipynb\" target=\"_parent\"><img src=\"https://colab.research.google.com/assets/colab-badge.svg\" alt=\"Open In Colab\"/></a>"
      ]
    },
    {
      "cell_type": "code",
      "execution_count": 1,
      "metadata": {
        "colab": {
          "base_uri": "https://localhost:8080/",
          "height": 35
        },
        "id": "OG5dylC0xPNG",
        "outputId": "36e11b54-a10c-4159-fc9d-6c0b41720c83"
      },
      "outputs": [
        {
          "output_type": "execute_result",
          "data": {
            "text/plain": [
              "'abcd'"
            ],
            "application/vnd.google.colaboratory.intrinsic+json": {
              "type": "string"
            }
          },
          "metadata": {},
          "execution_count": 1
        }
      ],
      "source": [
        "\"ab\"+\"cd\""
      ]
    },
    {
      "cell_type": "code",
      "source": [
        "x=\"   Hello World!   \"\n",
        "print( x[-4])\n",
        "print(len(x))\n",
        "print(x.upper())\n",
        "print(type(x))\n",
        "print(x)\n",
        "print(x.strip())"
      ],
      "metadata": {
        "colab": {
          "base_uri": "https://localhost:8080/"
        },
        "id": "Hh26S43ryrqY",
        "outputId": "0ccba22a-354a-447b-d232-f5b3d9d00367"
      },
      "execution_count": 16,
      "outputs": [
        {
          "output_type": "stream",
          "name": "stdout",
          "text": [
            "!\n",
            "18\n",
            "   HELLO WORLD!   \n",
            "<class 'str'>\n",
            "   Hello World!   \n",
            "Hello World!\n"
          ]
        }
      ]
    },
    {
      "cell_type": "code",
      "source": [
        "x = 2*2**3\n",
        "print(x)"
      ],
      "metadata": {
        "colab": {
          "base_uri": "https://localhost:8080/"
        },
        "id": "MmfhyMLUysSM",
        "outputId": "eb8c05bf-30a9-47c7-89eb-d64fd82b8c1f"
      },
      "execution_count": 14,
      "outputs": [
        {
          "output_type": "stream",
          "name": "stdout",
          "text": [
            "16\n"
          ]
        }
      ]
    },
    {
      "cell_type": "code",
      "source": [
        "aTuple = \"Yellow\", 20, \"Red\"\n",
        "a, b, c = aTuple\n",
        "print(a)"
      ],
      "metadata": {
        "colab": {
          "base_uri": "https://localhost:8080/"
        },
        "id": "EFEmmBRhyshh",
        "outputId": "5e9748b8-cde3-4910-8d3d-1d65d8b7f9b1"
      },
      "execution_count": 17,
      "outputs": [
        {
          "output_type": "stream",
          "name": "stdout",
          "text": [
            "Yellow\n"
          ]
        }
      ]
    },
    {
      "cell_type": "code",
      "source": [
        "lst = [3,4,5,6,7]\n",
        "lst[1:2] = [7,8]\n",
        "print(lst)"
      ],
      "metadata": {
        "colab": {
          "base_uri": "https://localhost:8080/"
        },
        "id": "EhCfeQ3Xyskg",
        "outputId": "5c27075c-b55d-4e6e-9867-d84cdca56cc3"
      },
      "execution_count": 18,
      "outputs": [
        {
          "output_type": "stream",
          "name": "stdout",
          "text": [
            "[3, 7, 8, 5, 6, 7]\n"
          ]
        }
      ]
    },
    {
      "cell_type": "code",
      "source": [
        "lst = []*3\n",
        "print(lst)"
      ],
      "metadata": {
        "colab": {
          "base_uri": "https://localhost:8080/"
        },
        "id": "FVkhYkADysok",
        "outputId": "4ee36425-2851-4352-bf0e-d909ead6ce1d"
      },
      "execution_count": 19,
      "outputs": [
        {
          "output_type": "stream",
          "name": "stdout",
          "text": [
            "[]\n"
          ]
        }
      ]
    },
    {
      "cell_type": "code",
      "source": [
        "a = [10, 20, 30]\n",
        "total = 0\n",
        "for e in a:\n",
        "    total += e\n",
        "print(total)"
      ],
      "metadata": {
        "colab": {
          "base_uri": "https://localhost:8080/"
        },
        "id": "b8yF5LZ_ysrp",
        "outputId": "434c5246-8a7d-4323-be15-0787f08c322c"
      },
      "execution_count": 24,
      "outputs": [
        {
          "output_type": "stream",
          "name": "stdout",
          "text": [
            "60\n"
          ]
        }
      ]
    },
    {
      "cell_type": "code",
      "source": [
        "print(list(range(1, 8)))"
      ],
      "metadata": {
        "colab": {
          "base_uri": "https://localhost:8080/"
        },
        "id": "tUjGsxplJh3m",
        "outputId": "006b8ff0-1b85-425d-ab54-39664c49d87d"
      },
      "execution_count": 25,
      "outputs": [
        {
          "output_type": "stream",
          "name": "stdout",
          "text": [
            "[1, 2, 3, 4, 5, 6, 7]\n"
          ]
        }
      ]
    },
    {
      "cell_type": "code",
      "source": [
        "lst = range(1 ,10)\n",
        "total = 0\n",
        "for i in lst:\n",
        "  if i%3 == 0:\n",
        "    total += i\n",
        "print(total)"
      ],
      "metadata": {
        "colab": {
          "base_uri": "https://localhost:8080/"
        },
        "id": "vGed0A2vKDrd",
        "outputId": "74bf4b2f-ae17-4807-bb5a-0a0be2b7b51d"
      },
      "execution_count": 26,
      "outputs": [
        {
          "output_type": "stream",
          "name": "stdout",
          "text": [
            "18\n"
          ]
        }
      ]
    },
    {
      "cell_type": "code",
      "source": [
        "list = range(1, 101)\n",
        "lstt = []\n",
        "for i in list:\n",
        "  if i%3 == 0 and i%5 == 0:\n",
        "    lstt.append(i)\n",
        "print(lstt)\n",
        "print(list)\n",
        "\n"
      ],
      "metadata": {
        "colab": {
          "base_uri": "https://localhost:8080/"
        },
        "id": "k92AspB1LERf",
        "outputId": "1e30f230-3e80-4a56-b301-5fbff4a78139"
      },
      "execution_count": 38,
      "outputs": [
        {
          "output_type": "stream",
          "name": "stdout",
          "text": [
            "[15, 30, 45, 60, 75, 90]\n",
            "range(1, 101)\n"
          ]
        }
      ]
    },
    {
      "cell_type": "code",
      "source": [
        "given_list = [7, 6, 5, 4, 3, 2, -3, -5, -7, -8]\n",
        "i = 0\n",
        "total = 0\n",
        "given_list.sort()\n",
        "while given_list[i]<0:\n",
        "  total += given_list[i]\n",
        "  i += 1\n",
        "print(total)\n"
      ],
      "metadata": {
        "colab": {
          "base_uri": "https://localhost:8080/"
        },
        "id": "i9CR144LNNg0",
        "outputId": "c3d7508e-4529-4471-dd30-929ea0a067f4"
      },
      "execution_count": 10,
      "outputs": [
        {
          "output_type": "stream",
          "name": "stdout",
          "text": [
            "-23\n"
          ]
        }
      ]
    },
    {
      "cell_type": "code",
      "source": [
        "list=[]\n",
        "i = 0\n",
        "while i<11:\n",
        "  list.append(i)\n",
        "  i += 1\n",
        "print(list)"
      ],
      "metadata": {
        "colab": {
          "base_uri": "https://localhost:8080/"
        },
        "id": "LnojA9dSrZij",
        "outputId": "79d1f003-c0b4-4d5e-f4bc-df2c5684a711"
      },
      "execution_count": 35,
      "outputs": [
        {
          "output_type": "stream",
          "name": "stdout",
          "text": [
            "[0, 1, 2, 3, 4, 5, 6, 7, 8, 9, 10]\n"
          ]
        }
      ]
    },
    {
      "cell_type": "code",
      "source": [
        "list1 = [12, 15, 32, 42, 55, 75, 122, 132, 150, 180, 200]\n",
        "i = 0\n",
        "for i in list1:\n",
        "  print(i)"
      ],
      "metadata": {
        "colab": {
          "base_uri": "https://localhost:8080/"
        },
        "id": "cZjDIoiyr5n-",
        "outputId": "937d73f7-9db1-47d7-dcd3-b36b3aa1ae85"
      },
      "execution_count": 37,
      "outputs": [
        {
          "output_type": "stream",
          "name": "stdout",
          "text": [
            "12\n",
            "15\n",
            "32\n",
            "42\n",
            "55\n",
            "75\n",
            "122\n",
            "132\n",
            "150\n",
            "180\n",
            "200\n"
          ]
        }
      ]
    },
    {
      "cell_type": "code",
      "source": [
        " x=int(input())\n",
        " i=0 \n",
        "\n",
        " while (i<10):\n",
        "   mult = i*x\n",
        "   print(x,\"x\", i, \"=\", mult)\n",
        "   i += 1"
      ],
      "metadata": {
        "colab": {
          "base_uri": "https://localhost:8080/"
        },
        "id": "i8XGbEiJsyRo",
        "outputId": "27705316-01ce-4269-bcaa-6b4dc32bcf10"
      },
      "execution_count": 92,
      "outputs": [
        {
          "output_type": "stream",
          "name": "stdout",
          "text": [
            "7\n",
            "7 x 0 = 0\n",
            "7 x 1 = 7\n",
            "7 x 2 = 14\n",
            "7 x 3 = 21\n",
            "7 x 4 = 28\n",
            "7 x 5 = 35\n",
            "7 x 6 = 42\n",
            "7 x 7 = 49\n",
            "7 x 8 = 56\n",
            "7 x 9 = 63\n"
          ]
        }
      ]
    },
    {
      "cell_type": "code",
      "source": [
        "for num in range(2,-5,-1):\n",
        "\n",
        "  print(num, end = \",\")"
      ],
      "metadata": {
        "colab": {
          "base_uri": "https://localhost:8080/"
        },
        "id": "n6dR6TEuuuvM",
        "outputId": "737104af-a598-4be3-8209-dd49739e6b6c"
      },
      "execution_count": 48,
      "outputs": [
        {
          "output_type": "stream",
          "name": "stdout",
          "text": [
            "2,1,0,-1,-2,-3,-4,"
          ]
        }
      ]
    },
    {
      "cell_type": "code",
      "source": [
        "numbers = [10, 20]\n",
        "items = [\"Chair\", \"Table\"]\n",
        "for x in numbers:\n",
        "    for y in items:\n",
        "        print(x, y)"
      ],
      "metadata": {
        "colab": {
          "base_uri": "https://localhost:8080/"
        },
        "id": "anKSNrTDu3rP",
        "outputId": "17fe4cb4-814b-4bc9-f25a-52fd6cf5ae36"
      },
      "execution_count": 49,
      "outputs": [
        {
          "output_type": "stream",
          "name": "stdout",
          "text": [
            "10 Chair\n",
            "10 Table\n",
            "20 Chair\n",
            "20 Table\n"
          ]
        }
      ]
    },
    {
      "cell_type": "code",
      "source": [
        "for k in range(0,5,1):\n",
        "  print(k)"
      ],
      "metadata": {
        "colab": {
          "base_uri": "https://localhost:8080/"
        },
        "id": "riJ-q4y6vCo9",
        "outputId": "97d1a3b8-2f41-44ca-c879-1aca06e8ffe6"
      },
      "execution_count": 52,
      "outputs": [
        {
          "output_type": "stream",
          "name": "stdout",
          "text": [
            "0\n",
            "1\n",
            "2\n",
            "3\n",
            "4\n"
          ]
        }
      ]
    },
    {
      "cell_type": "code",
      "source": [
        "x=0\n",
        "while (x<100):\n",
        "  x+=2\n",
        "print(x)"
      ],
      "metadata": {
        "colab": {
          "base_uri": "https://localhost:8080/"
        },
        "id": "K_ajn0ZfvefT",
        "outputId": "239461f4-3ceb-4206-a10f-e6a4136956ed"
      },
      "execution_count": 58,
      "outputs": [
        {
          "output_type": "stream",
          "name": "stdout",
          "text": [
            "100\n"
          ]
        }
      ]
    },
    {
      "cell_type": "code",
      "source": [
        "#Take values of length and breadth of a rectangle from the user and check if it is a square.\n",
        "x = input(int())\n",
        "y = input(int())\n",
        "if x==y:\n",
        "  print('it is a square')\n",
        "else:\n",
        "  print('it is not a square')"
      ],
      "metadata": {
        "colab": {
          "base_uri": "https://localhost:8080/"
        },
        "id": "G6epBPdv2f3l",
        "outputId": "5c8b06f0-2b80-42eb-bf44-2d1d24ffa3d1"
      },
      "execution_count": 67,
      "outputs": [
        {
          "output_type": "stream",
          "name": "stdout",
          "text": [
            "05\n",
            "05\n",
            "it is a square\n"
          ]
        }
      ]
    },
    {
      "cell_type": "code",
      "source": [
        "x= int(input())\n",
        "y= int(input())\n",
        "if x>y:\n",
        "  print(\"bigger one is\", x)\n",
        "else:\n",
        "    print(\"bigger one is\", y)"
      ],
      "metadata": {
        "colab": {
          "base_uri": "https://localhost:8080/"
        },
        "id": "OZIFU3EX3J9Y",
        "outputId": "948b0b93-138c-40c0-bf55-b9d852dce1ac"
      },
      "execution_count": 93,
      "outputs": [
        {
          "output_type": "stream",
          "name": "stdout",
          "text": [
            "6\n",
            "9\n",
            "bigger one is 9\n"
          ]
        }
      ]
    },
    {
      "cell_type": "code",
      "source": [
        "x =  int(input())\n",
        "if x >= 18:\n",
        "  print(\"eligable for voting\")\n",
        "else:\n",
        "  print(\"cannot vote\")\n"
      ],
      "metadata": {
        "colab": {
          "base_uri": "https://localhost:8080/"
        },
        "id": "BjqqBY543zTN",
        "outputId": "853dd0ef-98dd-47a9-f466-80b8646bfa1b"
      },
      "execution_count": 80,
      "outputs": [
        {
          "output_type": "stream",
          "name": "stdout",
          "text": [
            "67\n",
            "eligable voting\n"
          ]
        }
      ]
    },
    {
      "cell_type": "code",
      "source": [
        "#Write a Python program to add a key to a dictionary.\n",
        "#Sample Dictionary : {0: 10, 1: 20}\n",
        "#Expected Result : {0: 10, 1: 20, 2: 30}\n",
        "\n",
        "d={0:10, 1:20}\n",
        "d[2]=30\n",
        "print(d)"
      ],
      "metadata": {
        "colab": {
          "base_uri": "https://localhost:8080/"
        },
        "id": "EhnDneL_5Vb4",
        "outputId": "5a87279f-ff4a-45cc-d909-16f06323caa5"
      },
      "execution_count": 82,
      "outputs": [
        {
          "output_type": "stream",
          "name": "stdout",
          "text": [
            "{0: 10, 1: 20, 2: 30}\n"
          ]
        }
      ]
    },
    {
      "cell_type": "code",
      "source": [
        "for num in range(10,14):\n",
        "  for i in range(2,num):\n",
        "    if num%i == 1:\n",
        "      print(num)\n",
        "      break"
      ],
      "metadata": {
        "colab": {
          "base_uri": "https://localhost:8080/"
        },
        "id": "dicoEXAJ7o4R",
        "outputId": "0578942d-aa65-4a06-d271-f5f4855b5fea"
      },
      "execution_count": 83,
      "outputs": [
        {
          "output_type": "stream",
          "name": "stdout",
          "text": [
            "10\n",
            "11\n",
            "12\n",
            "13\n"
          ]
        }
      ]
    },
    {
      "cell_type": "code",
      "source": [
        "var = 10\n",
        "for i in range(10):\n",
        "  for j in range(2,10,1):\n",
        "    if var%2 == 0:\n",
        "      continue\n",
        "      var+=1\n",
        "  var+=1\n",
        "else:\n",
        "  var+=1\n",
        "print(var)\n",
        "\n"
      ],
      "metadata": {
        "colab": {
          "base_uri": "https://localhost:8080/"
        },
        "id": "ap_dAHD68Le-",
        "outputId": "b155a893-7727-4cca-adee-47620f1ada5c"
      },
      "execution_count": 85,
      "outputs": [
        {
          "output_type": "stream",
          "name": "stdout",
          "text": [
            "21\n"
          ]
        }
      ]
    },
    {
      "cell_type": "code",
      "source": [
        "d = {\"john\":40, \"peter\":45}\n",
        "print(len(d))"
      ],
      "metadata": {
        "colab": {
          "base_uri": "https://localhost:8080/"
        },
        "id": "iVJZHzh282DS",
        "outputId": "d08cc0b8-32a3-4a5a-f93d-d42eab3ce4e3"
      },
      "execution_count": 87,
      "outputs": [
        {
          "output_type": "stream",
          "name": "stdout",
          "text": [
            "2\n"
          ]
        }
      ]
    },
    {
      "cell_type": "code",
      "source": [
        "import calendar\n",
        "cal = calendar.month(1998, 5)\n",
        "print(cal)\n",
        "calendar.isleap(1998)"
      ],
      "metadata": {
        "colab": {
          "base_uri": "https://localhost:8080/"
        },
        "id": "WKoO9qGr_oSz",
        "outputId": "63c9e8fc-496f-43e6-8fcc-42b475bec520"
      },
      "execution_count": 100,
      "outputs": [
        {
          "output_type": "stream",
          "name": "stdout",
          "text": [
            "      May 1998\n",
            "Mo Tu We Th Fr Sa Su\n",
            "             1  2  3\n",
            " 4  5  6  7  8  9 10\n",
            "11 12 13 14 15 16 17\n",
            "18 19 20 21 22 23 24\n",
            "25 26 27 28 29 30 31\n",
            "\n"
          ]
        },
        {
          "output_type": "execute_result",
          "data": {
            "text/plain": [
              "False"
            ]
          },
          "metadata": {},
          "execution_count": 100
        }
      ]
    },
    {
      "cell_type": "code",
      "source": [
        "def func(x=1,y=2):\n",
        "  x=x+y\n",
        "  y+=1\n",
        "  print(x,y)\n",
        "func(y=2, x=1)"
      ],
      "metadata": {
        "colab": {
          "base_uri": "https://localhost:8080/"
        },
        "id": "oL7AtNafDXDi",
        "outputId": "494f490c-d292-459d-8d75-850ce6889824"
      },
      "execution_count": 101,
      "outputs": [
        {
          "output_type": "stream",
          "name": "stdout",
          "text": [
            "3 3\n"
          ]
        }
      ]
    }
  ]
}